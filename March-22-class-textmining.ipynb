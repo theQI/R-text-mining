{
 "cells": [
  {
   "cell_type": "code",
   "execution_count": 3,
   "metadata": {
    "collapsed": false
   },
   "outputs": [
    {
     "ename": "ERROR",
     "evalue": "Error in get_oauth_sig(): OAuth has not been registered for this session\n",
     "output_type": "error",
     "traceback": [
      "Error in get_oauth_sig(): OAuth has not been registered for this session\nTraceback:\n",
      "1. userTimeline(\"RDataMining\", n = 3200)",
      "2. statusBase(cmd, params, n, 3200, ...)",
      "3. sapply(doPagedAPICall(cmd, n, params, ...), buildStatus)",
      "4. lapply(X = X, FUN = FUN, ...)",
      "5. doPagedAPICall(cmd, n, params, ...)",
      "6. twInterfaceObj$doAPICall(cmd, params, method, ...)",
      "7. GET(url, query = query, config(token = get_oauth_sig()))",
      "8. request_build(\"GET\", hu$url, as.request(config), ...)",
      "9. as.request(config)",
      "10. config(token = get_oauth_sig())",
      "11. request(options = list(...), auth_token = token)",
      "12. structure(list(method = method, url = url, headers = keep_last(headers), \n  .     fields = fields, options = compact(keep_last(options)), auth_token = auth_token, \n  .     output = output), class = \"request\")",
      "13. get_oauth_sig()",
      "14. stop(\"OAuth has not been registered for this session\")"
     ]
    }
   ],
   "source": [
    "library(twitteR)\n",
    "tweets <- userTimeline(\"RDataMining\", n = 3200)"
   ]
  },
  {
   "cell_type": "code",
   "execution_count": null,
   "metadata": {
    "collapsed": true
   },
   "outputs": [],
   "source": []
  }
 ],
 "metadata": {
  "kernelspec": {
   "display_name": "R",
   "language": "R",
   "name": "ir"
  },
  "language_info": {
   "codemirror_mode": "r",
   "file_extension": ".r",
   "mimetype": "text/x-r-source",
   "name": "R",
   "pygments_lexer": "r",
   "version": "3.3.2"
  }
 },
 "nbformat": 4,
 "nbformat_minor": 2
}
