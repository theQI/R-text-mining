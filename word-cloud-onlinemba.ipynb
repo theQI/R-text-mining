{
 "cells": [
  {
   "cell_type": "code",
   "execution_count": 1,
   "metadata": {
    "collapsed": false
   },
   "outputs": [
    {
     "name": "stderr",
     "output_type": "stream",
     "text": [
      "Warning message:\n",
      "\"package 'twitteR' was built under R version 3.3.3\""
     ]
    },
    {
     "ename": "ERROR",
     "evalue": "Error in library(twitteR, ROAuth, httr): object 'httr' not found\n",
     "output_type": "error",
     "traceback": [
      "Error in library(twitteR, ROAuth, httr): object 'httr' not found\nTraceback:\n",
      "1. library(twitteR, ROAuth, httr)"
     ]
    }
   ],
   "source": [
    "library(twitteR,ROAuth,httr)"
   ]
  },
  {
   "cell_type": "code",
   "execution_count": 3,
   "metadata": {
    "collapsed": false
   },
   "outputs": [
    {
     "name": "stdout",
     "output_type": "stream",
     "text": [
      "[1] \"Using direct authentication\"\n"
     ]
    }
   ],
   "source": [
    "# Set API Keys\n",
    "api_key <- \"oKEgop4GPF76vRFDLvBuOhTDT\"\n",
    "api_secret <- \"KoEeBSOfJ0FFpxZbF5rzXVRXB5Cw2ZsDFohcXNhpiQmk1WN545\"\n",
    "access_token <- \"82004152-uBVnhbsEKPIxCuFMnI4kZMBRPOMFRFsp8mwocvPSr\"\n",
    "access_token_secret <- \"9M3wBU9tJGqhswTtwg0JlrRHkngQAMu5wr1u2EP3XBNMM\"\n",
    "setup_twitter_oauth(api_key, api_secret, access_token, access_token_secret)"
   ]
  },
  {
   "cell_type": "code",
   "execution_count": null,
   "metadata": {
    "collapsed": true
   },
   "outputs": [],
   "source": []
  }
 ],
 "metadata": {
  "kernelspec": {
   "display_name": "R",
   "language": "R",
   "name": "ir"
  },
  "language_info": {
   "codemirror_mode": "r",
   "file_extension": ".r",
   "mimetype": "text/x-r-source",
   "name": "R",
   "pygments_lexer": "r",
   "version": "3.3.2"
  }
 },
 "nbformat": 4,
 "nbformat_minor": 2
}
