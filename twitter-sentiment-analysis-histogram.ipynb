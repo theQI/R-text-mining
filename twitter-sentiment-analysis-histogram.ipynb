{
 "cells": [
  {
   "cell_type": "code",
   "execution_count": 1,
   "metadata": {
    "collapsed": false
   },
   "outputs": [],
   "source": [
    "pkgs <-c('twitteR','ROAuth','httr','plyr','stringr','ggplot2','plotly')\n",
    "for(p in pkgs) if(p %in% rownames(installed.packages()) == FALSE) {install.packages(p)}\n",
    "for(p in pkgs) suppressPackageStartupMessages(library(p, quietly=TRUE, character.only=TRUE))"
   ]
  },
  {
   "cell_type": "code",
   "execution_count": 2,
   "metadata": {
    "collapsed": false
   },
   "outputs": [
    {
     "name": "stdout",
     "output_type": "stream",
     "text": [
      "[1] \"Using direct authentication\"\n"
     ]
    }
   ],
   "source": [
    "# Set API Keys\n",
    "api_key <- \"xxxxxxxxxxxxxxxxxxxx\"\n",
    "api_secret <- \"xxxxxxxxxxxxxxxxxxxxxxxxxxxxxxxxx\"\n",
    "access_token <- \"xxxxxxxxxxxxxxxxxxxxxxxxxxxxxx\"\n",
    "access_token_secret <- \"xxxxxxxxxxxxxxxxxxxxxxxxxxxxxxxxxxxxx\"\n",
    "setup_twitter_oauth(api_key, api_secret, access_token, access_token_secret)"
   ]
  },
  {
   "cell_type": "code",
   "execution_count": null,
   "metadata": {
    "collapsed": false
   },
   "outputs": [],
   "source": [
    "# Grab latest tweets\n",
    "tweets_trump <- searchTwitter('@realDonaldTrump', n=3000)\n",
    "tweets_sanders <- searchTwitter('@BernieSanders', n=3000)\n",
    "tweets_clinton <- searchTwitter('@HillaryClinton', n=3000)\n",
    "tweets_cruz <- searchTwitter('@tedcruz', n=3000)"
   ]
  },
  {
   "cell_type": "code",
   "execution_count": null,
   "metadata": {
    "collapsed": false
   },
   "outputs": [],
   "source": [
    "# Loop over tweets and extract text\n",
    "feed_trump <- laply(tweets_trump, function(t) t$getText())\n",
    "feed_sanders <- laply(tweets_sanders, function(t) t$getText())\n",
    "feed_clinton <- laply(tweets_clinton, function(t) t$getText())\n",
    "feed_cruz <- laply(tweets_cruz, function(t) t$getText())"
   ]
  },
  {
   "cell_type": "code",
   "execution_count": null,
   "metadata": {
    "collapsed": false
   },
   "outputs": [],
   "source": [
    "# Read in dictionary of positive and negative workds\n",
    "yay <- scan('positive-words.txt',\n",
    "                  what='character', comment.char=';')\n",
    "boo <- scan('negative-words.txt',\n",
    "                  what='character', comment.char=';')\n",
    "# Add a few twitter-specific negative phrases\n",
    "bad_text <- c(boo, 'wtf', 'wait', 'waiting',\n",
    "              'epicfail', 'slow')\n",
    "good_text <- c(yay, 'upgrade', ':)', '#iVoted', 'voted')\n",
    "\n",
    "score.sentiment <- function(sentences, good_text, bad_text, .progress='none')\n",
    "{\n",
    "    require(plyr)\n",
    "    require(stringr)\n",
    "    # we got a vector of sentences. plyr will handle a list\n",
    "    # or a vector as an \"l\" for us\n",
    "    # we want a simple array of scores back, so we use\n",
    "    # \"l\" + \"a\" + \"ply\" = \"laply\":\n",
    "    scores = laply(sentences, function(sentence, good_text, bad_text) {\n",
    "        \n",
    "        # clean up sentences with R's regex-driven global substitute, gsub():\n",
    "        sentence = gsub('[[:punct:]]', '', sentence)\n",
    "        sentence = gsub('[[:cntrl:]]', '', sentence)\n",
    "        sentence = gsub('\\\\d+', '', sentence)\n",
    "        #to remove emojis\n",
    "        sentence <- iconv(sentence, 'UTF-8', 'ASCII')\n",
    "        sentence = tolower(sentence)\n",
    "        \n",
    "        # split into words. str_split is in the stringr package\n",
    "        word.list = str_split(sentence, '\\\\s+')\n",
    "        # sometimes a list() is one level of hierarchy too much\n",
    "        words = unlist(word.list)\n",
    "        \n",
    "        # compare our words to the dictionaries of positive & negative terms\n",
    "        pos.matches = match(words, good_text)\n",
    "        neg.matches = match(words, bad_text)\n",
    "        \n",
    "        # match() returns the position of the matched term or NA\n",
    "        # we just want a TRUE/FALSE:\n",
    "        pos.matches = !is.na(pos.matches)\n",
    "        neg.matches = !is.na(neg.matches)\n",
    "        \n",
    "        # and conveniently enough, TRUE/FALSE will be treated as 1/0 by sum():\n",
    "        score = sum(pos.matches) - sum(neg.matches)\n",
    "        \n",
    "        return(score)\n",
    "    }, good_text, bad_text, .progress=.progress )\n",
    "    \n",
    "    scores.df = data.frame(score=scores, text=sentences)\n",
    "    return(scores.df)\n",
    "}"
   ]
  },
  {
   "cell_type": "code",
   "execution_count": null,
   "metadata": {
    "collapsed": false
   },
   "outputs": [],
   "source": [
    "# Retreive scores and add candidate name.\n",
    "thedonald <- score.sentiment(feed_trump, good_text, bad_text, .progress='text')\n",
    "thedonald$name <- 'Trump'\n",
    "feelthabern <- score.sentiment(feed_sanders, good_text, bad_text, .progress='text')\n",
    "feelthabern$name <- 'Sanders'\n",
    "clinton <- score.sentiment(feed_clinton, good_text, bad_text, .progress='text')\n",
    "clinton$name <- 'Clinton'\n",
    "cruz <- score.sentiment(feed_cruz, good_text, bad_text, .progress='text')\n",
    "cruz$name <- 'Cruz'\n",
    "# Merge into one dataframe for plotting\n",
    "plotdat <- rbind(thedonald, feelthabern, clinton, cruz)\n",
    "# Cut the text, just gets in the way\n",
    "plotdat <- plotdat[c(\"name\", \"score\")]\n",
    "# Remove neutral values of 0\n",
    "plotdat <- plotdat[!plotdat$score == 0, ]\n",
    "# Remove anything less than -3 or greater than 3\n",
    "plotdat <- plotdat[!plotdat$score > 3, ]\n",
    "plotdat <- plotdat[!plotdat$score < (-3), ]"
   ]
  },
  {
   "cell_type": "code",
   "execution_count": 9,
   "metadata": {
    "collapsed": false
   },
   "outputs": [
    {
     "data": {},
     "metadata": {},
     "output_type": "display_data"
    },
    {
     "data": {
      "image/png": "[encoded data removed]",
      "text/plain": [
       "plot without title"
      ]
     },
     "metadata": {},
     "output_type": "display_data"
    }
   ],
   "source": [
    "qplot(factor(score), data=plotdat, geom=\"bar\", \n",
    "      fill=factor(name),\n",
    "      xlab = \"Sentiment Score\")"
   ]
  },
  {
   "cell_type": "code",
   "execution_count": 11,
   "metadata": {
    "collapsed": false
   },
   "outputs": [
    {
     "data": {
      "text/plain": [
       "List of 3\n",
       " $ axis.title.x:List of 11\n",
       "  ..$ family       : NULL\n",
       "  ..$ face         : chr \"bold\"\n",
       "  ..$ colour       : chr \"#000000\"\n",
       "  ..$ size         : num 8\n",
       "  ..$ hjust        : NULL\n",
       "  ..$ vjust        : NULL\n",
       "  ..$ angle        : NULL\n",
       "  ..$ lineheight   : NULL\n",
       "  ..$ margin       : NULL\n",
       "  ..$ debug        : NULL\n",
       "  ..$ inherit.blank: logi FALSE\n",
       "  ..- attr(*, \"class\")= chr [1:2] \"element_text\" \"element\"\n",
       " $ axis.title.y:List of 11\n",
       "  ..$ family       : NULL\n",
       "  ..$ face         : chr \"bold\"\n",
       "  ..$ colour       : chr \"#000000\"\n",
       "  ..$ size         : num 10\n",
       "  ..$ hjust        : NULL\n",
       "  ..$ vjust        : NULL\n",
       "  ..$ angle        : NULL\n",
       "  ..$ lineheight   : NULL\n",
       "  ..$ margin       : NULL\n",
       "  ..$ debug        : NULL\n",
       "  ..$ inherit.blank: logi FALSE\n",
       "  ..- attr(*, \"class\")= chr [1:2] \"element_text\" \"element\"\n",
       " $ axis.text.x :List of 11\n",
       "  ..$ family       : NULL\n",
       "  ..$ face         : NULL\n",
       "  ..$ colour       : NULL\n",
       "  ..$ size         : num 8\n",
       "  ..$ hjust        : NULL\n",
       "  ..$ vjust        : num 0\n",
       "  ..$ angle        : num 16\n",
       "  ..$ lineheight   : NULL\n",
       "  ..$ margin       : NULL\n",
       "  ..$ debug        : NULL\n",
       "  ..$ inherit.blank: logi FALSE\n",
       "  ..- attr(*, \"class\")= chr [1:2] \"element_text\" \"element\"\n",
       " - attr(*, \"class\")= chr [1:2] \"theme\" \"gg\"\n",
       " - attr(*, \"complete\")= logi FALSE\n",
       " - attr(*, \"validate\")= logi TRUE"
      ]
     },
     "metadata": {},
     "output_type": "display_data"
    },
    {
     "data": {},
     "metadata": {},
     "output_type": "display_data"
    },
    {
     "data": {
      "image/png": "[encoded data removed]",
      "text/plain": [
       "plot without title"
      ]
     },
     "metadata": {},
     "output_type": "display_data"
    }
   ],
   "source": [
    "ep <- plotdat %>%\n",
    "    ggplot(aes(x = score, fill = name)) +\n",
    "    geom_histogram(binwidth = 1) +\n",
    "    scale_fill_manual(values = c(\"#0067F7\",\"#7B00F7\", \"#7CF700\", \"#F70000\")) +\n",
    "    theme_classic(base_size = 12) +\n",
    "    scale_x_continuous(name = \"Sentiment Score\") +\n",
    "    scale_y_continuous(name = \"Text count of tweets\") +\n",
    "    ggtitle(\"Super Tuesday Twitter Sentiment: 2016\")\n",
    "    theme(axis.title.y = element_text(face=\"bold\", colour=\"#000000\", size=10),\n",
    "          axis.title.x = element_text(face=\"bold\", colour=\"#000000\", size=8),\n",
    "          axis.text.x = element_text(angle=16, vjust=0, size=8))\n",
    "#use just ggplotly(ep) when running in R-studio"
   ]
  }
 ],
 "metadata": {
  "kernelspec": {
   "display_name": "R",
   "language": "R",
   "name": "ir"
  },
  "language_info": {
   "codemirror_mode": "r",
   "file_extension": ".r",
   "mimetype": "text/x-r-source",
   "name": "R",
   "pygments_lexer": "r",
   "version": "3.3.2"
  }
 },
 "nbformat": 4,
 "nbformat_minor": 2
}
